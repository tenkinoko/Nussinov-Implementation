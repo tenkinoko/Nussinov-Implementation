{
  "cells": [
    {
      "cell_type": "markdown",
      "metadata": {
        "id": "76f5d80b"
      },
      "source": [
        "# Nussinov Algorithm Implementation\n",
        "\n",
        "This notebook demonstrates the implementation of the Nussinov algorithm, a dynamic programming approach to predicting RNA secondary structures.\n",
        "Each section is detailed to guide you through the algorithm's logic, from utility functions to backtracking and main execution.\n"
      ]
    },
    {
      "cell_type": "markdown",
      "metadata": {
        "id": "b8242461"
      },
      "source": [
        "\n",
        "## Importing Necessary Libraries and Constants\n",
        "\n",
        "This section defines the constants and imports required for the Nussinov algorithm.\n"
      ]
    },
    {
      "cell_type": "code",
      "execution_count": 1,
      "metadata": {
        "id": "B4vjabYuiwpy"
      },
      "outputs": [],
      "source": [
        "import os\n",
        "import sys"
      ]
    },
    {
      "cell_type": "markdown",
      "metadata": {
        "id": "1addeb32"
      },
      "source": [
        "\n",
        "## Utility Function: Validating Base Pairs\n",
        "\n",
        "The `isBasePair` function determines whether two bases can form a valid RNA pair, such as A-U or G-C.\n",
        "This function is crucial for the Nussinov algorithm to check pairing compatibility.\n"
      ]
    },
    {
      "cell_type": "code",
      "execution_count": 2,
      "metadata": {
        "id": "MZLRTCJdi5sF"
      },
      "outputs": [],
      "source": [
        "def isBasePair(i, j): #returns boolean for if its a pair or not\n",
        "\tpairs = {('A', 'U'), ('U', 'A'), ('C', 'G'), ('G', 'C')}\n",
        "\treturn (i, j) in pairs"
      ]
    },
    {
      "cell_type": "markdown",
      "metadata": {
        "id": "66330b61"
      },
      "source": [
        "\n",
        "## Filling the Dynamic Programming Table\n",
        "\n",
        "The `fill_nussinov` function implements the core dynamic programming logic of the Nussinov algorithm.\n",
        "It computes the scoring matrix (`s`) by iterating over subsequences and considering all possible pairings and bifurcations.\n"
      ]
    },
    {
      "cell_type": "code",
      "execution_count": 3,
      "metadata": {
        "id": "LwNknJM1i8rr"
      },
      "outputs": [],
      "source": [
        "def fill_nussinov(sequence):\n",
        "    length = len(sequence)\n",
        "    # Initialize the DP table\n",
        "    dp_table = [[0 for _ in range(length)] for _ in range(length)]\n",
        "\n",
        "    # Fill the DP table\n",
        "    for window_size in range(1, length):\n",
        "        for start in range(length - window_size):\n",
        "            end = start + window_size\n",
        "            if end >= start:\n",
        "                # Calculate scores for each option\n",
        "                score_down = dp_table[start + 1][end]\n",
        "                score_left = dp_table[start][end - 1]\n",
        "                score_diagonal = dp_table[start + 1][end - 1] + isBasePair(sequence[start], sequence[end])\n",
        "                score_bifurcation = max(\n",
        "                    dp_table[start][k] + dp_table[k + 1][end] for k in range(start, end)\n",
        "                )\n",
        "\n",
        "                # Choose the maximum score\n",
        "                dp_table[start][end] = max(score_down, score_left, score_diagonal, score_bifurcation)\n",
        "\n",
        "    # The optimal score is at the top-right corner of the DP table\n",
        "    optimal_score = dp_table[0][length - 1]\n",
        "    return optimal_score, dp_table"
      ]
    },
    {
      "cell_type": "markdown",
      "metadata": {
        "id": "b50c4ea4"
      },
      "source": [
        "\n",
        "## Backtracking to Find Optimal Pairing\n",
        "\n",
        "The `traceback` function uses the scoring matrix to reconstruct the optimal RNA secondary structure.\n",
        "It follows the traceback directions (`s`) and adds valid pairings to the `pairs` list.\n"
      ]
    },
    {
      "cell_type": "code",
      "execution_count": 4,
      "metadata": {
        "id": "oh4vu1B8jJAu"
      },
      "outputs": [],
      "source": [
        "def traceback(dp_table, sequence, base_pairs, start, end):\n",
        "    if start < end:\n",
        "        if dp_table[start][end] == dp_table[start + 1][end]:\n",
        "            traceback(dp_table, sequence, base_pairs, start + 1, end)\n",
        "        elif dp_table[start][end] == dp_table[start][end - 1]:\n",
        "            traceback(dp_table, sequence, base_pairs, start, end - 1)\n",
        "        elif dp_table[start][end] == dp_table[start + 1][end - 1] + 1:\n",
        "            base_pairs.append((start, end))\n",
        "            traceback(dp_table, sequence, base_pairs, start + 1, end - 1)\n",
        "        else:\n",
        "            for middle in range(start + 1, end - 1):\n",
        "                if dp_table[start][end] == dp_table[start][middle] + dp_table[middle + 1][end]:\n",
        "                    traceback(dp_table, sequence, base_pairs, middle + 1, end)\n",
        "                    traceback(dp_table, sequence, base_pairs, start, middle)\n",
        "                    break\n",
        "\n",
        "    return base_pairs"
      ]
    },
    {
      "cell_type": "markdown",
      "metadata": {
        "id": "de497956"
      },
      "source": [
        "\n",
        "## Converting Pairings to Dot-Bracket Notation\n",
        "\n",
        "The `convert_pairs` function translates the pairing results into the dot-bracket notation, a standard format for RNA secondary structure representation.\n"
      ]
    },
    {
      "cell_type": "code",
      "execution_count": 5,
      "metadata": {
        "id": "6-j627-mMyJx"
      },
      "outputs": [],
      "source": [
        "def convert_to_dot_bracket(sequence, base_pairs):\n",
        "    # Initialize a list of dots representing unpaired bases\n",
        "    dot_bracket_notation = [\".\" for _ in range(len(sequence))]\n",
        "\n",
        "    # Mark paired indices with parentheses\n",
        "    for (start, end) in base_pairs:\n",
        "        dot_bracket_notation[start] = \"(\"\n",
        "        dot_bracket_notation[end] = \")\"\n",
        "\n",
        "    # Convert the list to a string and return\n",
        "    return \"\".join(dot_bracket_notation)"
      ]
    },
    {
      "cell_type": "markdown",
      "metadata": {
        "id": "618e53d0"
      },
      "source": [
        "\n",
        "## Main Execution: Running the Nussinov Algorithm\n",
        "\n",
        "This section defines a test sequence and applies the Nussinov algorithm to predict its secondary structure.\n",
        "It prints the final dot-bracket representation and the filled DP table.\n"
      ]
    },
    {
      "cell_type": "code",
      "execution_count": 6,
      "metadata": {
        "colab": {
          "base_uri": "https://localhost:8080/"
        },
        "id": "gMPFhKb0i93a",
        "outputId": "7b824140-13c2-4e56-9b92-19ccfa026e54"
      },
      "outputs": [
        {
          "output_type": "stream",
          "name": "stdout",
          "text": [
            "GGGAAAUCC\n",
            ".((..()))\n",
            "[0, 0, 0, 0, 0, 0, 1, 2, 3]\n",
            "[0, 0, 0, 0, 0, 0, 1, 2, 3]\n",
            "[0, 0, 0, 0, 0, 0, 1, 2, 2]\n",
            "[0, 0, 0, 0, 0, 0, 1, 1, 1]\n",
            "[0, 0, 0, 0, 0, 0, 1, 1, 1]\n",
            "[0, 0, 0, 0, 0, 0, 1, 1, 1]\n",
            "[0, 0, 0, 0, 0, 0, 0, 0, 0]\n",
            "[0, 0, 0, 0, 0, 0, 0, 0, 0]\n",
            "[0, 0, 0, 0, 0, 0, 0, 0, 0]\n"
          ]
        }
      ],
      "source": [
        "if __name__ == '__main__':\n",
        "    seq = 'GGGAAAUCC'\n",
        "    ans, table = fill_nussinov(seq)\n",
        "    pairs = traceback(table, seq, [], 0, len(seq) - 1)\n",
        "    res = convert_to_dot_bracket(seq, pairs)\n",
        "    print(seq)\n",
        "    print(res)\n",
        "    for r in table:\n",
        "      print(r)"
      ]
    },
    {
      "cell_type": "code",
      "source": [
        "if __name__ == '__main__':\n",
        "    seq = 'GGUCCAC'\n",
        "    ans, table = fill_nussinov(seq)\n",
        "    pairs = traceback(table, seq, [], 0, len(seq) - 1)\n",
        "    res = convert_to_dot_bracket(seq, pairs)\n",
        "    print(seq)\n",
        "    print(res)\n",
        "    for r in table:\n",
        "      print(r)"
      ],
      "metadata": {
        "colab": {
          "base_uri": "https://localhost:8080/"
        },
        "id": "4FCcsnWmqfUr",
        "outputId": "dca38c03-c41a-4673-93e7-df00c6b9eebc"
      },
      "execution_count": 7,
      "outputs": [
        {
          "output_type": "stream",
          "name": "stdout",
          "text": [
            "GGUCCAC\n",
            ".((..))\n",
            "[0, 0, 0, 1, 2, 2, 2]\n",
            "[0, 0, 0, 1, 1, 1, 2]\n",
            "[0, 0, 0, 0, 0, 1, 1]\n",
            "[0, 0, 0, 0, 0, 0, 0]\n",
            "[0, 0, 0, 0, 0, 0, 0]\n",
            "[0, 0, 0, 0, 0, 0, 0]\n",
            "[0, 0, 0, 0, 0, 0, 0]\n"
          ]
        }
      ]
    },
    {
      "cell_type": "code",
      "source": [
        "if __name__ == '__main__':\n",
        "    seq = 'GCACGACG'\n",
        "    ans, table = fill_nussinov(seq)\n",
        "    pairs = traceback(table, seq, [], 0, len(seq) - 1)\n",
        "    res = convert_to_dot_bracket(seq, pairs)\n",
        "    print(seq)\n",
        "    print(res)\n",
        "    for r in table:\n",
        "      print(r)"
      ],
      "metadata": {
        "colab": {
          "base_uri": "https://localhost:8080/"
        },
        "id": "oqu5X4u9qntp",
        "outputId": "e93fcac5-1339-47c2-b84d-9c6bd6c3c32c"
      },
      "execution_count": 11,
      "outputs": [
        {
          "output_type": "stream",
          "name": "stdout",
          "text": [
            "GCACGACG\n",
            "().((.))\n",
            "[0, 1, 1, 1, 2, 2, 2, 3]\n",
            "[0, 0, 0, 0, 1, 1, 1, 2]\n",
            "[0, 0, 0, 0, 1, 1, 1, 2]\n",
            "[0, 0, 0, 0, 1, 1, 1, 2]\n",
            "[0, 0, 0, 0, 0, 0, 1, 1]\n",
            "[0, 0, 0, 0, 0, 0, 0, 1]\n",
            "[0, 0, 0, 0, 0, 0, 0, 1]\n",
            "[0, 0, 0, 0, 0, 0, 0, 0]\n"
          ]
        }
      ]
    },
    {
      "cell_type": "code",
      "source": [
        "if __name__ == '__main__':\n",
        "    seq = 'GCUCGGGUUCCCUAUUCAAGAGC'\n",
        "    ans, table = fill_nussinov(seq)\n",
        "    pairs = traceback(table, seq, [], 0, len(seq) - 1)\n",
        "    res = convert_to_dot_bracket(seq, pairs)\n",
        "    print(seq)\n",
        "    print(res)\n",
        "    for r in table:\n",
        "      print(r)"
      ],
      "metadata": {
        "colab": {
          "base_uri": "https://localhost:8080/"
        },
        "id": "1jNrGa0ksJX3",
        "outputId": "16ce28ff-a2a0-4694-8685-bca990cb94d6"
      },
      "execution_count": 9,
      "outputs": [
        {
          "output_type": "stream",
          "name": "stdout",
          "text": [
            "GCUCGGGUUCCCUAUUCAAGAGC\n",
            "(((((((..)))(()(.))))))\n",
            "[0, 1, 1, 1, 2, 2, 2, 2, 2, 3, 4, 4, 4, 5, 5, 5, 5, 6, 7, 8, 9, 9, 10]\n",
            "[0, 0, 0, 0, 1, 2, 2, 2, 2, 3, 3, 3, 3, 4, 4, 4, 4, 5, 6, 7, 8, 9, 9]\n",
            "[0, 0, 0, 0, 1, 1, 1, 1, 1, 2, 3, 3, 3, 4, 4, 4, 4, 5, 6, 7, 8, 8, 9]\n",
            "[0, 0, 0, 0, 1, 1, 1, 1, 1, 2, 3, 3, 3, 4, 4, 4, 4, 5, 6, 7, 7, 7, 8]\n",
            "[0, 0, 0, 0, 0, 0, 0, 0, 0, 1, 2, 3, 3, 4, 4, 4, 4, 5, 6, 6, 6, 6, 7]\n",
            "[0, 0, 0, 0, 0, 0, 0, 0, 0, 1, 2, 2, 2, 3, 3, 3, 3, 4, 5, 6, 6, 6, 7]\n",
            "[0, 0, 0, 0, 0, 0, 0, 0, 0, 1, 1, 1, 1, 2, 2, 2, 2, 3, 4, 5, 5, 6, 6]\n",
            "[0, 0, 0, 0, 0, 0, 0, 0, 0, 0, 0, 0, 0, 1, 1, 1, 1, 2, 3, 4, 5, 5, 6]\n",
            "[0, 0, 0, 0, 0, 0, 0, 0, 0, 0, 0, 0, 0, 1, 1, 1, 1, 2, 3, 4, 5, 5, 6]\n",
            "[0, 0, 0, 0, 0, 0, 0, 0, 0, 0, 0, 0, 0, 1, 1, 1, 1, 2, 3, 4, 4, 5, 5]\n",
            "[0, 0, 0, 0, 0, 0, 0, 0, 0, 0, 0, 0, 0, 1, 1, 1, 1, 2, 3, 4, 4, 5, 5]\n",
            "[0, 0, 0, 0, 0, 0, 0, 0, 0, 0, 0, 0, 0, 1, 1, 1, 1, 2, 3, 4, 4, 4, 5]\n",
            "[0, 0, 0, 0, 0, 0, 0, 0, 0, 0, 0, 0, 0, 1, 1, 1, 1, 2, 3, 3, 3, 3, 4]\n",
            "[0, 0, 0, 0, 0, 0, 0, 0, 0, 0, 0, 0, 0, 0, 1, 1, 1, 2, 2, 2, 3, 3, 4]\n",
            "[0, 0, 0, 0, 0, 0, 0, 0, 0, 0, 0, 0, 0, 0, 0, 0, 0, 1, 2, 2, 2, 2, 3]\n",
            "[0, 0, 0, 0, 0, 0, 0, 0, 0, 0, 0, 0, 0, 0, 0, 0, 0, 1, 1, 1, 2, 2, 3]\n",
            "[0, 0, 0, 0, 0, 0, 0, 0, 0, 0, 0, 0, 0, 0, 0, 0, 0, 0, 0, 1, 1, 1, 2]\n",
            "[0, 0, 0, 0, 0, 0, 0, 0, 0, 0, 0, 0, 0, 0, 0, 0, 0, 0, 0, 0, 0, 0, 1]\n",
            "[0, 0, 0, 0, 0, 0, 0, 0, 0, 0, 0, 0, 0, 0, 0, 0, 0, 0, 0, 0, 0, 0, 1]\n",
            "[0, 0, 0, 0, 0, 0, 0, 0, 0, 0, 0, 0, 0, 0, 0, 0, 0, 0, 0, 0, 0, 0, 1]\n",
            "[0, 0, 0, 0, 0, 0, 0, 0, 0, 0, 0, 0, 0, 0, 0, 0, 0, 0, 0, 0, 0, 0, 1]\n",
            "[0, 0, 0, 0, 0, 0, 0, 0, 0, 0, 0, 0, 0, 0, 0, 0, 0, 0, 0, 0, 0, 0, 1]\n",
            "[0, 0, 0, 0, 0, 0, 0, 0, 0, 0, 0, 0, 0, 0, 0, 0, 0, 0, 0, 0, 0, 0, 0]\n"
          ]
        }
      ]
    }
  ],
  "metadata": {
    "colab": {
      "provenance": []
    },
    "kernelspec": {
      "display_name": "Python 3",
      "name": "python3"
    },
    "language_info": {
      "name": "python"
    }
  },
  "nbformat": 4,
  "nbformat_minor": 0
}